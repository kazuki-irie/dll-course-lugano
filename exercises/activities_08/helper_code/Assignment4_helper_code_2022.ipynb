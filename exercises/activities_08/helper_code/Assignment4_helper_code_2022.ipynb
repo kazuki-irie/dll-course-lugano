{
  "cells": [
    {
      "cell_type": "code",
      "execution_count": null,
      "metadata": {
        "id": "PxlI-1V0VyYJ"
      },
      "outputs": [],
      "source": [
        "import os\n",
        "import math\n",
        "import time\n",
        "from tqdm import tqdm\n",
        "\n",
        "import torch\n",
        "import torch.nn as nn\n",
        "from torch.utils.data import Dataset\n",
        "from torch.utils.data import DataLoader"
      ]
    },
    {
      "cell_type": "code",
      "execution_count": null,
      "metadata": {
        "id": "QE2d0XWuV8D6"
      },
      "outputs": [],
      "source": [
        "class Vocabulary:\n",
        "\n",
        "    def __init__(self, pad_token=\"<pad>\", unk_token='<unk>', eos_token='<eos>', sos_token='<sos>'):\n",
        "        self.id_to_string = {}\n",
        "        self.string_to_id = {}\n",
        "        \n",
        "        # add the default pad token\n",
        "        self.id_to_string[0] = pad_token\n",
        "        self.string_to_id[pad_token] = 0\n",
        "        \n",
        "        # add the default unknown token\n",
        "        self.id_to_string[1] = unk_token\n",
        "        self.string_to_id[unk_token] = 1\n",
        "        \n",
        "        # add the default unknown token\n",
        "        self.id_to_string[2] = eos_token\n",
        "        self.string_to_id[eos_token] = 2   \n",
        "\n",
        "        # add the default unknown token\n",
        "        self.id_to_string[3] = sos_token\n",
        "        self.string_to_id[sos_token] = 3\n",
        "\n",
        "        # shortcut access\n",
        "        self.pad_id = 0\n",
        "        self.unk_id = 1\n",
        "        self.eos_id = 2\n",
        "        self.sos_id = 3\n",
        "\n",
        "    def __len__(self):\n",
        "        return len(self.id_to_string)\n",
        "\n",
        "    def add_new_word(self, string):\n",
        "        self.string_to_id[string] = len(self.string_to_id)\n",
        "        self.id_to_string[len(self.id_to_string)] = string\n",
        "\n",
        "    # Given a string, return ID\n",
        "    # if extend_vocab is True, add the new word\n",
        "    def get_idx(self, string, extend_vocab=False):\n",
        "        if string in self.string_to_id:\n",
        "            return self.string_to_id[string]\n",
        "        elif extend_vocab:  # add the new word\n",
        "            self.add_new_word(string)\n",
        "            return self.string_to_id[string]\n",
        "        else:\n",
        "            return self.unk_id\n",
        "\n",
        "\n",
        "# Read the raw txt file and generate a 1D pytorch tensor\n",
        "# containing the whole text mapped to sequence of token ID,\n",
        "# and a vocab file\n",
        "class ParallelTextDataset(Dataset):\n",
        "\n",
        "    def __init__(self, src_file_path, trg_file_path, src_vocab=None,\n",
        "                 trg_vocab=None, extend_vocab=False, device='cuda'):\n",
        "        (self.data, self.src_vocab, self.trg_vocab,\n",
        "         self.src_max_seq_length, self.tgt_max_seq_length) = self.parallel_text_to_data(\n",
        "            src_file_path, trg_file_path, src_vocab, trg_vocab, extend_vocab, device)\n",
        "\n",
        "    def __getitem__(self, idx):\n",
        "        return self.data[idx]\n",
        "\n",
        "    def __len__(self):\n",
        "        return len(self.data)\n",
        "\n",
        "    def parallel_text_to_data(self, src_file, tgt_file, src_vocab=None, tgt_vocab=None,\n",
        "                          extend_vocab=False, device='cuda'):\n",
        "        # Convert paired src/tgt texts into torch.tensor data.\n",
        "        # All sequences are padded to the length of the longest sequence\n",
        "        # of the respective file.\n",
        "\n",
        "        assert os.path.exists(src_file)\n",
        "        assert os.path.exists(tgt_file)\n",
        "\n",
        "        if src_vocab is None:\n",
        "            src_vocab = Vocabulary()\n",
        "\n",
        "        if tgt_vocab is None:\n",
        "            tgt_vocab = Vocabulary()\n",
        "        \n",
        "        data_list = []\n",
        "        # Check the max length, if needed construct vocab file.\n",
        "        src_max = 0\n",
        "        with open(src_file, 'r') as text:\n",
        "            for line in text:\n",
        "                tokens = list(line)\n",
        "                length = len(tokens)\n",
        "                if src_max < length:\n",
        "                    src_max = length\n",
        "\n",
        "        tgt_max = 0\n",
        "        with open(tgt_file, 'r') as text:\n",
        "            for line in text:\n",
        "                tokens = list(line)\n",
        "                length = len(tokens)\n",
        "                if tgt_max < length:\n",
        "                    tgt_max = length\n",
        "        tgt_max += 2  # add for begin/end tokens\n",
        "                    \n",
        "        src_pad_idx = src_vocab.pad_id\n",
        "        tgt_pad_idx = tgt_vocab.pad_id\n",
        "\n",
        "        tgt_eos_idx = tgt_vocab.eos_id\n",
        "        tgt_sos_idx = tgt_vocab.sos_id\n",
        "\n",
        "        # Construct data\n",
        "        src_list = []\n",
        "        print(f\"Loading source file from: {src_file}\")\n",
        "        with open(src_file, 'r') as text:\n",
        "            for line in tqdm(text):\n",
        "                seq = []\n",
        "                tokens = list(line)\n",
        "                for token in tokens:\n",
        "                    seq.append(src_vocab.get_idx(token, extend_vocab=extend_vocab))\n",
        "                var_len = len(seq)\n",
        "                var_seq = torch.tensor(seq, device=device, dtype=torch.int64)\n",
        "                # padding\n",
        "                new_seq = var_seq.data.new(src_max).fill_(src_pad_idx)\n",
        "                new_seq[:var_len] = var_seq\n",
        "                src_list.append(new_seq)\n",
        "\n",
        "        tgt_list = []\n",
        "        print(f\"Loading target file from: {tgt_file}\")\n",
        "        with open(tgt_file, 'r') as text:\n",
        "            for line in tqdm(text):\n",
        "                seq = []\n",
        "                tokens = list(line)\n",
        "                # append a start token\n",
        "                seq.append(tgt_sos_idx)\n",
        "                for token in tokens:\n",
        "                    seq.append(tgt_vocab.get_idx(token, extend_vocab=extend_vocab))\n",
        "                # append an end token\n",
        "                seq.append(tgt_eos_idx)\n",
        "\n",
        "                var_len = len(seq)\n",
        "                var_seq = torch.tensor(seq, device=device, dtype=torch.int64)\n",
        "\n",
        "                # padding\n",
        "                new_seq = var_seq.data.new(tgt_max).fill_(tgt_pad_idx)\n",
        "                new_seq[:var_len] = var_seq\n",
        "                tgt_list.append(new_seq)\n",
        "\n",
        "        # src_file and tgt_file are assumed to be aligned.\n",
        "        assert len(src_list) == len(tgt_list)\n",
        "        for i in range(len(src_list)):\n",
        "            data_list.append((src_list[i], tgt_list[i]))\n",
        "\n",
        "        print(\"Done.\")\n",
        "            \n",
        "        return data_list, src_vocab, tgt_vocab, src_max, tgt_max\n"
      ]
    },
    {
      "cell_type": "code",
      "execution_count": null,
      "metadata": {
        "colab": {
          "base_uri": "https://localhost:8080/"
        },
        "id": "cDswlNAQyuHB",
        "outputId": "35e0750b-dd26-426a-bb6e-55de444cef21"
      },
      "outputs": [
        {
          "output_type": "stream",
          "name": "stdout",
          "text": [
            "Loading source file from: /content//numbers__place_value/train.x\n"
          ]
        },
        {
          "output_type": "stream",
          "name": "stderr",
          "text": [
            "10it [00:00, 1533.73it/s]\n"
          ]
        },
        {
          "output_type": "stream",
          "name": "stdout",
          "text": [
            "Loading target file from: /content//numbers__place_value/train.y\n"
          ]
        },
        {
          "output_type": "stream",
          "name": "stderr",
          "text": [
            "10it [00:00, 3698.68it/s]\n"
          ]
        },
        {
          "output_type": "stream",
          "name": "stdout",
          "text": [
            "Done.\n",
            "Loading source file from: /content//numbers__place_value/interpolate.x\n"
          ]
        },
        {
          "output_type": "stream",
          "name": "stderr",
          "text": [
            "10000it [00:01, 6883.09it/s]\n"
          ]
        },
        {
          "output_type": "stream",
          "name": "stdout",
          "text": [
            "Loading target file from: /content//numbers__place_value/interpolate.y\n"
          ]
        },
        {
          "output_type": "stream",
          "name": "stderr",
          "text": [
            "10000it [00:01, 9564.23it/s]"
          ]
        },
        {
          "output_type": "stream",
          "name": "stdout",
          "text": [
            "Done.\n"
          ]
        },
        {
          "output_type": "stream",
          "name": "stderr",
          "text": [
            "\n"
          ]
        }
      ],
      "source": [
        "# `DATASET_DIR` should be modified to the directory where you downloaded the dataset.\n",
        "DATASET_DIR = \"/content/\"\n",
        "\n",
        "TRAIN_FILE_NAME = \"train\"\n",
        "VALID_FILE_NAME = \"interpolate\"\n",
        "\n",
        "INPUTS_FILE_ENDING = \".x\"\n",
        "TARGETS_FILE_ENDING = \".y\"\n",
        "\n",
        "TASK = \"numbers__place_value\"\n",
        "# TASK = \"comparison__sort\"\n",
        "# TASK = \"algebra__linear_1d\"\n",
        "\n",
        "# Adapt the paths!\n",
        "\n",
        "src_file_path = f\"{DATASET_DIR}/{TASK}/{TRAIN_FILE_NAME}{INPUTS_FILE_ENDING}\"\n",
        "trg_file_path = f\"{DATASET_DIR}/{TASK}/{TRAIN_FILE_NAME}{TARGETS_FILE_ENDING}\"\n",
        "\n",
        "train_set = ParallelTextDataset(src_file_path, trg_file_path, extend_vocab=True)\n",
        "\n",
        "# get the vocab\n",
        "src_vocab = train_set.src_vocab\n",
        "trg_vocab = train_set.trg_vocab\n",
        "\n",
        "src_file_path = f\"{DATASET_DIR}/{TASK}/{VALID_FILE_NAME}{INPUTS_FILE_ENDING}\"\n",
        "trg_file_path = f\"{DATASET_DIR}/{TASK}/{VALID_FILE_NAME}{TARGETS_FILE_ENDING}\"\n",
        "\n",
        "valid_set = ParallelTextDataset(\n",
        "    src_file_path, trg_file_path, src_vocab=src_vocab, trg_vocab=trg_vocab,\n",
        "    extend_vocab=False)"
      ]
    },
    {
      "cell_type": "code",
      "execution_count": null,
      "metadata": {
        "id": "xuB1K0TAyuHC"
      },
      "outputs": [],
      "source": [
        "batch_size = 64\n",
        "\n",
        "train_data_loader = DataLoader(\n",
        "    dataset=train_set, batch_size=batch_size, shuffle=True)\n",
        "\n",
        "valid_data_loader = DataLoader(\n",
        "    dataset=valid_set, batch_size=batch_size, shuffle=False)"
      ]
    },
    {
      "cell_type": "code",
      "execution_count": null,
      "metadata": {
        "colab": {
          "base_uri": "https://localhost:8080/"
        },
        "id": "WkXJ4OljyuHC",
        "outputId": "61ca18c8-7a5e-4a0c-d081-3e966a58be31"
      },
      "outputs": [
        {
          "output_type": "execute_result",
          "data": {
            "text/plain": [
              "{0: '<pad>',\n",
              " 1: '<unk>',\n",
              " 2: '<eos>',\n",
              " 3: '<sos>',\n",
              " 4: 'W',\n",
              " 5: 'h',\n",
              " 6: 'a',\n",
              " 7: 't',\n",
              " 8: ' ',\n",
              " 9: 'i',\n",
              " 10: 's',\n",
              " 11: 'e',\n",
              " 12: 'u',\n",
              " 13: 'n',\n",
              " 14: 'd',\n",
              " 15: 'r',\n",
              " 16: 'g',\n",
              " 17: 'o',\n",
              " 18: 'f',\n",
              " 19: '3',\n",
              " 20: '1',\n",
              " 21: '2',\n",
              " 22: '5',\n",
              " 23: '?',\n",
              " 24: '\\n',\n",
              " 25: '8',\n",
              " 26: '9',\n",
              " 27: '6',\n",
              " 28: '7',\n",
              " 29: '4',\n",
              " 30: '0'}"
            ]
          },
          "metadata": {},
          "execution_count": 15
        }
      ],
      "source": [
        "src_vocab.id_to_string"
      ]
    },
    {
      "cell_type": "code",
      "execution_count": null,
      "metadata": {
        "colab": {
          "base_uri": "https://localhost:8080/"
        },
        "id": "JHCn5Gm4yuHC",
        "outputId": "48086e24-e8e5-4d6b-e268-5870c1334822"
      },
      "outputs": [
        {
          "output_type": "execute_result",
          "data": {
            "text/plain": [
              "{0: '<pad>',\n",
              " 1: '<unk>',\n",
              " 2: '<eos>',\n",
              " 3: '<sos>',\n",
              " 4: '2',\n",
              " 5: '\\n',\n",
              " 6: '6',\n",
              " 7: '3',\n",
              " 8: '4',\n",
              " 9: '8',\n",
              " 10: '9'}"
            ]
          },
          "metadata": {},
          "execution_count": 16
        }
      ],
      "source": [
        "trg_vocab.id_to_string"
      ]
    },
    {
      "cell_type": "code",
      "execution_count": null,
      "metadata": {
        "id": "Be_GKdRXyuHC"
      },
      "outputs": [],
      "source": [
        "########\n",
        "# Taken from:\n",
        "# https://pytorch.org/tutorials/beginner/transformer_tutorial.html\n",
        "# or also here:\n",
        "# https://github.com/pytorch/examples/blob/master/word_language_model/model.py\n",
        "class PositionalEncoding(nn.Module):\n",
        "\n",
        "    def __init__(self, d_model, dropout=0.0, max_len=5000):\n",
        "        super(PositionalEncoding, self).__init__()\n",
        "        self.dropout = nn.Dropout(p=dropout)\n",
        "        self.max_len = max_len\n",
        "\n",
        "        pe = torch.zeros(max_len, d_model)\n",
        "        position = torch.arange(0, max_len, dtype=torch.float).unsqueeze(1)\n",
        "        div_term = torch.exp(torch.arange(0, d_model, 2).float()\n",
        "                             * (-math.log(10000.0) / d_model))\n",
        "        pe[:, 0::2] = torch.sin(position * div_term)\n",
        "        pe[:, 1::2] = torch.cos(position * div_term)\n",
        "        pe = pe.unsqueeze(0).transpose(0, 1)  # shape (max_len, 1, dim)\n",
        "        self.register_buffer('pe', pe)  # Will not be trained.\n",
        "\n",
        "    def forward(self, x):\n",
        "        \"\"\"Inputs of forward function\n",
        "        Args:\n",
        "            x: the sequence fed to the positional encoder model (required).\n",
        "        Shape:\n",
        "            x: [sequence length, batch size, embed dim]\n",
        "            output: [sequence length, batch size, embed dim]\n",
        "        \"\"\"\n",
        "        assert x.size(0) < self.max_len, (\n",
        "            f\"Too long sequence length: increase `max_len` of pos encoding\")\n",
        "        # shape of x (len, B, dim)\n",
        "        x = x + self.pe[:x.size(0), :]\n",
        "        return self.dropout(x)"
      ]
    },
    {
      "cell_type": "code",
      "execution_count": null,
      "metadata": {
        "id": "HvRreOJTyuHG"
      },
      "outputs": [],
      "source": [
        "class TransformerModel(nn.Module):\n",
        "    def __init__(self, source_vocabulary_size, target_vocabulary_size,\n",
        "                 d_model=256, pad_id=0, encoder_layers=3, decoder_layers=2,\n",
        "                 dim_feedforward=1024, num_heads=8):\n",
        "        # all arguments are (int)\n",
        "        super().__init__()\n",
        "        self.pad_id = pad_id\n",
        "\n",
        "        self.embedding_src = nn.Embedding(\n",
        "            source_vocabulary_size, d_model, padding_idx=pad_id)\n",
        "        self.embedding_tgt = nn.Embedding(\n",
        "            target_vocabulary_size, d_model, padding_idx=pad_id)\n",
        "\n",
        "        self.pos_encoder = PositionalEncoding(d_model)\n",
        "        self.transformer = nn.Transformer(\n",
        "            d_model, num_heads, encoder_layers, decoder_layers, dim_feedforward)\n",
        "        self.encoder = self.transformer.encoder\n",
        "        self.decoder = self.transformer.decoder\n",
        "        self.linear = nn.Linear(d_model, target_vocabulary_size)\n",
        "\n",
        "    def create_src_padding_mask(src):\n",
        "        # input src of shape ()\n",
        "        src_padding_mask = src.transpose(0, 1) == 0\n",
        "        return src_padding_mask\n",
        "\n",
        "    def create_tgt_padding_mask(tgt):\n",
        "        # input tgt of shape ()\n",
        "        tgt_padding_mask = tgt.transpose(0, 1) == 0\n",
        "        return tgt_padding_mask\n",
        "\n",
        "    # Implement me!\n",
        "    # def greedy_seach():\n",
        "\n",
        "    # Implement me!\n",
        "    # def forward_separate():\n",
        "\n",
        "    def forward(self, src, tgt):\n",
        "        \"\"\"Forward function.\n",
        "\n",
        "        Parameters:\n",
        "          src: tensor of shape (sequence_length, batch, data dim)\n",
        "          tgt: tensor of shape (sequence_length, batch, data dim)\n",
        "        Returns:\n",
        "          tensor of shape (sequence_length, batch, data dim)\n",
        "        \"\"\"\n",
        "        src_key_padding_mask = Transformer.create_src_padding_mask(src).to(DEVICE)\n",
        "        tgt_key_padding_mask = Transformer.create_tgt_padding_mask(tgt).to(DEVICE)\n",
        "        memory_key_padding_mask = src_key_padding_mask\n",
        "        tgt_mask = nn.Transformer.generate_square_subsequent_mask(\n",
        "            tgt.shape[0]).to(DEVICE)\n",
        "\n",
        "        tgt = self.embedding_tgt(tgt)\n",
        "        tgt = self.pos_encoder(tgt)\n",
        "        out = self.embedding_src(src)\n",
        "        out = self.pos_encoder(out)\n",
        "        out = self.transformer(\n",
        "            out, tgt, src_key_padding_mask=src_key_padding_mask,\n",
        "            tgt_mask=tgt_mask, tgt_key_padding_mask=tgt_key_padding_mask,\n",
        "            memory_key_padding_mask=memory_key_padding_mask)\n",
        "        out = self.linear(out)\n",
        "        return out"
      ]
    }
  ],
  "metadata": {
    "accelerator": "GPU",
    "colab": {
      "collapsed_sections": [],
      "provenance": []
    },
    "kernelspec": {
      "display_name": "Python 3",
      "language": "python",
      "name": "python3"
    },
    "language_info": {
      "codemirror_mode": {
        "name": "ipython",
        "version": 3
      },
      "file_extension": ".py",
      "mimetype": "text/x-python",
      "name": "python",
      "nbconvert_exporter": "python",
      "pygments_lexer": "ipython3",
      "version": "3.7.6"
    }
  },
  "nbformat": 4,
  "nbformat_minor": 0
}